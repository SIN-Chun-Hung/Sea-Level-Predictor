{
 "cells": [
  {
   "cell_type": "code",
   "execution_count": 2,
   "id": "9d0ad63b",
   "metadata": {},
   "outputs": [],
   "source": [
    "import pandas as pd\n",
    "import matplotlib.pyplot as plt\n",
    "from scipy.stats import linregress\n",
    "\n",
    "def draw_plot():\n",
    "    # Read data from file\n",
    "    df = pd.read_csv('epa-sea-level.csv')\n",
    "    x = df['Year']\n",
    "    y = df['CSIRO Adjusted Sea Level']\n",
    "\n",
    "    # Create scatter plot\n",
    "    fig, ax = plt.subplots()\n",
    "    plt.scatter(x,y)\n",
    "\n",
    "    # Create first line of best fit\n",
    "    pred_model_1 = linregress(x,y)\n",
    "    x1 = pd.Series([year for year in range(1880, 2051)])\n",
    "    y1 = pred_model_1.slope * x1 + pred_model_1.intercept\n",
    "    plt.plot(x1, y1, 'r')\n",
    "\n",
    "    # Create second line of best fit\n",
    "    df2 = df.loc[df['Year'] >= 2000]\n",
    "    renew_x = df2['Year']\n",
    "    renew_y = df2['CSIRO Adjusted Sea Level']\n",
    "    pred_model_2 = linregress(renew_x, renew_y)\n",
    "    x2 = pd.Series([year for year in range(2000, 2051)])\n",
    "    y2 = pred_model_2.slope * x2 + pred_model_2.intercept\n",
    "    plt.plot(x2, y2, 'blue')\n",
    "    \n",
    "    # Add labels and title\n",
    "    ax.set_xlabel('Year')\n",
    "    ax.set_ylabel('Sea Level (inches)')\n",
    "    ax.set_title('Rise in Sea Level')\n",
    "    \n",
    "    # Save plot and return data for testing (DO NOT MODIFY)\n",
    "    plt.savefig('sea_level_plot.png')\n",
    "    return plt.gca()"
   ]
  },
  {
   "cell_type": "code",
   "execution_count": null,
   "id": "ebc5b0d7",
   "metadata": {},
   "outputs": [],
   "source": []
  }
 ],
 "metadata": {
  "kernelspec": {
   "display_name": "Python 3",
   "language": "python",
   "name": "python3"
  },
  "language_info": {
   "codemirror_mode": {
    "name": "ipython",
    "version": 3
   },
   "file_extension": ".py",
   "mimetype": "text/x-python",
   "name": "python",
   "nbconvert_exporter": "python",
   "pygments_lexer": "ipython3",
   "version": "3.8.8"
  }
 },
 "nbformat": 4,
 "nbformat_minor": 5
}
